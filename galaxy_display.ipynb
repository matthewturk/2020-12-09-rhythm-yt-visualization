{
 "cells": [
  {
   "cell_type": "markdown",
   "metadata": {},
   "source": [
    "# Pan and Zoom\n",
    "\n",
    "This widget ports the functionality of the yt pixelization function to Rust, and then to WebAssembly, so that the actual change in the image is conducted in the browser.  Once the display has been created, no further contact with the server is necessary to get new data!  It will pass some info back and forth (such as bounds and the like) but all of the actual visualization is occuring locally, in the browser, and is thus much faster with lower latency.\n",
    "\n",
    "It may appear blank at first, in which case you will need to toggle one of the viewable parameters, such as the colormap log scaling, to ensure an image appears."
   ]
  },
  {
   "cell_type": "code",
   "execution_count": null,
   "metadata": {},
   "outputs": [],
   "source": [
    "import widgyts\n",
    "import yt"
   ]
  },
  {
   "cell_type": "markdown",
   "metadata": {},
   "source": [
    "yt has several example datasets (and a number of tutorials on reading and analyzing its data) that are available on [its webpage](http://yt-project.org/data/). This example will use the IsolatedGalaxy dataset. If you do not have IsolatedGalaxy on your machine, please download and unzip it from http://yt-project.org/data/IsolatedGalaxy.tar.gz. \n",
    "\n",
    "yt's load function searches a for a user-configurable datapath (in addition to the current working directory). If you'd like to learn more about setting up your datapath for yt so that you can store your data centrally, see the documentation on configuring the `test_data_dir` on [this page](http://yt-project.org/doc/reference/configuration.html#available-configuration-options). The next cell loads IsolatedGalaxy as if it is in the `test_data_dir folder`. "
   ]
  },
  {
   "cell_type": "code",
   "execution_count": null,
   "metadata": {
    "scrolled": false
   },
   "outputs": [],
   "source": [
    "ds = yt.load(\"IsolatedGalaxy/galaxy0030/galaxy0030\")\n",
    "s = ds.r[:,:,0.5]\n",
    "ss = s.display(\"density\")\n",
    "ss"
   ]
  }
 ],
 "metadata": {
  "kernelspec": {
   "display_name": "Python 3",
   "language": "python",
   "name": "python3"
  },
  "language_info": {
   "codemirror_mode": {
    "name": "ipython",
    "version": 3
   },
   "file_extension": ".py",
   "mimetype": "text/x-python",
   "name": "python",
   "nbconvert_exporter": "python",
   "pygments_lexer": "ipython3",
   "version": "3.6.5"
  }
 },
 "nbformat": 4,
 "nbformat_minor": 2
}
